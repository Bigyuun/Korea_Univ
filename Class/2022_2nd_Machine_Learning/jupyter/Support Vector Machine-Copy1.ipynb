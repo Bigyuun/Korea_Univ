{
 "cells": [
  {
   "cell_type": "markdown",
   "metadata": {},
   "source": [
    "# Support Vector Machine"
   ]
  },
  {
   "cell_type": "markdown",
   "metadata": {},
   "source": [
    "## Example problem - points scattered in 2D space"
   ]
  },
  {
   "cell_type": "code",
   "execution_count": null,
   "metadata": {
    "collapsed": true
   },
   "outputs": [],
   "source": []
  },
  {
   "cell_type": "code",
   "execution_count": 647,
   "metadata": {},
   "outputs": [
    {
     "name": "stdout",
     "output_type": "stream",
     "text": [
      "[0]\n"
     ]
    },
    {
     "data": {
      "image/png": "[encoded data removed]",
      "text/plain": [
       "<matplotlib.figure.Figure at 0x7fecea553320>"
      ]
     },
     "metadata": {},
     "output_type": "display_data"
    }
   ],
   "source": [
    "from sklearn.svm import SVC\n",
    "classifier = SVC(kernel = 'linear')\n",
    "training_points = [[1, 2], [1, 5], [2, 2], [7, 5], [9, 4], [8, 2]]\n",
    "labels = [1, 1, 1, 0, 0, 0]\n",
    "classifier.fit(training_points, labels) \n",
    "\n",
    "\n",
    "plt.scatter([1,1,2],[2,5,2],marker=\"x\",color=\"r\") # label 1\n",
    " \n",
    "plt.scatter([7,9,8],[5,4,2],marker=\"x\",color=\"b\") # label 0\n",
    "\n",
    "#plt.scatter([3],[2],marker=\"x\",color=\"g\")\n",
    "plt.scatter([8],[3],marker=\"x\",color=\"g\")\n",
    "\n",
    "\n",
    "\n",
    "\n",
    "\n",
    "#print(classifier.predict([[3, 2]]))\n",
    "print(classifier.predict([[8, 3]]))"
   ]
  },
  {
   "cell_type": "code",
   "execution_count": null,
   "metadata": {
    "collapsed": true
   },
   "outputs": [],
   "source": []
  },
  {
   "cell_type": "code",
   "execution_count": null,
   "metadata": {},
   "outputs": [],
   "source": []
  },
  {
   "cell_type": "code",
   "execution_count": 1,
   "metadata": {},
   "outputs": [
    {
     "name": "stdout",
     "output_type": "stream",
     "text": [
      "(57, 57)\n",
      "(58, 57)\n",
      "Conditon number of A:  4.484915249179096e+18\n",
      "alpha_max:  0.04945749157780147\n",
      "W_hat:  [[-8.66723496  4.41641579  0.07379999]]\n",
      "b_hat:  0.07379999480085375\n"
     ]
    },
    {
     "data": {
      "text/plain": [
       "Text(0.5, 1.0, 'Separate Data')"
      ]
     },
     "execution_count": 1,
     "metadata": {},
     "output_type": "execute_result"
    },
    {
     "data": {
      "image/png": "[encoded data removed]",
      "text/plain": [
       "<Figure size 1080x360 with 2 Axes>"
      ]
     },
     "metadata": {
      "needs_background": "light"
     },
     "output_type": "display_data"
    }
   ],
   "source": [
    "import numpy as np\n",
    "import matplotlib.pyplot as plt\n",
    "%matplotlib inline\n",
    "\n",
    "#x = np.linspace(1,2,20)\n",
    "#y = np.linspace(2,3,20)\n",
    "\n",
    "x1 = np.arange(1,30,1) - 20\n",
    "y1 = np.arange(6,35,1)\n",
    "y1 = y1 + np.random.rand(np.size(y1))*30\n",
    "\n",
    "x2 = np.arange(0,28,1) + 20\n",
    "y2 = np.arange(1,29,1)\n",
    "y2 = y2 + np.random.rand(np.size(y2))*30\n",
    "\n",
    "#======================================================================\n",
    "\n",
    "plt.figure(num=1,figsize=[15,5])\n",
    "plt.subplot(121)\n",
    "plt.scatter(x1,y1,marker=\"x\",color=\"r\")\n",
    "plt.scatter(x2,y2,marker=\"x\",color=\"b\")\n",
    "plt.title('Given Data')\n",
    "\n",
    "\n",
    "\n",
    "X1 = np.concatenate((np.asmatrix(x1).T, np.asmatrix(y1).T, np.ones((np.size(x1,0),1))),axis=1)\n",
    "X2 = np.concatenate((np.asmatrix(x2).T, np.asmatrix(y2).T, np.ones((np.size(x2,0),1))),axis=1)\n",
    "#X1 = np.concatenate((np.asmatrix(x1).T, np.asmatrix(y1).T),axis=1)\n",
    "#X2 = np.concatenate((np.asmatrix(x2).T, np.asmatrix(y2).T),axis=1)\n",
    "\n",
    "#print(X1)\n",
    "\n",
    "X = np.concatenate((X1,X2),axis=0)\n",
    "\n",
    "Y = np.concatenate((np.ones((np.size(X1,0),1)),-np.ones((np.size(X2,0),1))),axis=0)\n",
    "\n",
    "N = len(Y)\n",
    "\n",
    "#print(N)\n",
    "\n",
    "A = (X.T*np.diag(Y[:,0])).T*(X.T*np.diag(Y[:,0]))\n",
    "print(A.shape)\n",
    "\n",
    "A = np.concatenate((A,Y.T),axis=0)\n",
    "print(A.shape)\n",
    "\n",
    "print('Conditon number of A: ',np.linalg.cond(A))\n",
    "\n",
    "alpha = np.linalg.solve(A.T*A,A.T*np.concatenate((np.ones((N,1)),[[0]]),axis=0))\n",
    "alpha = np.asmatrix(alpha)\n",
    "\n",
    "float_epsilon = np.finfo(float).eps\n",
    "#float32_epsilon = np.finfo(np.float32).eps\n",
    "\n",
    "alpha_ = alpha\n",
    "alpha_max = np.max(alpha_)\n",
    "print(\"alpha_max: \", alpha_max)\n",
    "\n",
    "num_supp = 0\n",
    "W_hat = 0\n",
    "for k in range(0,N):\n",
    "    if alpha[k] <= 0:\n",
    "        alpha[k] = 0\n",
    "    else:\n",
    "        num_supp = num_supp + 1\n",
    "        W_hat = W_hat + alpha[k]*Y[k]*X[k,:]  # apply only positive alpha, i.e., alpha > 0\n",
    "\n",
    "\n",
    "W_hat = np.asmatrix(W_hat)\n",
    "print(\"W_hat: \", W_hat)\n",
    "\n",
    "#print(np.asarray([[1,2,3]]).T*np.asarray([[1,2,3]]).T*np.asarray([[1,2],[3,4],[5,6]]))\n",
    "\n",
    "\n",
    "b_hat = W_hat[0,2]\n",
    "#b_hat = W_hat[0,1]\n",
    "\n",
    "#W_norm = np.linalg.norm(W_hat)\n",
    "#b_hat = b_hat/W_norm\n",
    "#W_hat = W_hat/W_norm\n",
    "\n",
    "print(\"b_hat: \",b_hat)\n",
    "\n",
    "\n",
    "\n",
    "\n",
    "\n",
    "plt.subplot(122)\n",
    "plt.scatter(x1,y1,marker=\"x\",color=\"r\")\n",
    "plt.scatter(x2,y2,marker=\"x\",color=\"b\")\n",
    "plt.plot(X[:,0],np.asarray((-b_hat-W_hat[0,0]*X[:,0]))/np.asarray((W_hat[0,1] + float_epsilon)), '-g')\n",
    "plt.xlim(np.min(X[:,0]), np.max(X[:,0]))\n",
    "plt.ylim(np.min(X[:,1]), np.max(X[:,1]))\n",
    "plt.title('Separate Data')\n",
    "\n",
    "\n"
   ]
  },
  {
   "cell_type": "code",
   "execution_count": null,
   "metadata": {},
   "outputs": [],
   "source": []
  },
  {
   "cell_type": "code",
   "execution_count": null,
   "metadata": {},
   "outputs": [],
   "source": []
  }
 ],
 "metadata": {
  "kernelspec": {
   "display_name": "Python 3 (ipykernel)",
   "language": "python",
   "name": "python3"
  },
  "language_info": {
   "codemirror_mode": {
    "name": "ipython",
    "version": 3
   },
   "file_extension": ".py",
   "mimetype": "text/x-python",
   "name": "python",
   "nbconvert_exporter": "python",
   "pygments_lexer": "ipython3",
   "version": "3.9.12"
  }
 },
 "nbformat": 4,
 "nbformat_minor": 2
}
