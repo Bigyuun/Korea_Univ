{
 "cells": [
  {
   "cell_type": "code",
   "execution_count": null,
   "id": "8a7632fe",
   "metadata": {},
   "outputs": [
    {
     "name": "stdout",
     "output_type": "stream",
     "text": [
      "[1.03500593 1.19822062]\n"
     ]
    }
   ],
   "source": [
    "import numpy as np\n",
    "import matplotlib.pyplot as plt\n",
    "%matplotlib inline\n",
    "\n",
    "#x = np.linspace(1,2,20)\n",
    "#y = np.linspace(2,3,20)\n",
    "x = np.arange(1,2,0.05)\n",
    "y = np.arange(2,3,0.05)\n",
    "\n",
    "plt.figure(num=0,figsize=[15,5])\n",
    "plt.subplot(131)\n",
    "plt.plot(x,y,marker=\"x\")\n",
    "plt.title('Linear line')\n",
    "#plt.show()\n",
    "\n",
    "\n",
    "y = y + 1/2*np.random.rand(np.size(y))\n",
    "\n",
    "#plt.figure(num=1,figsize=[5,5])\n",
    "plt.subplot(132)\n",
    "plt.plot(x,y,marker=\"x\")\n",
    "plt.title('Randomized')\n",
    "\n",
    "\n",
    "\n",
    "A = [[np.sum(x*x), np.sum(x)], [np.sum(x), len(x)]]\n",
    "b = [np.sum(y*x), np.sum(y)]\n",
    "\n",
    "U = np.linalg.solve(A,b) \n",
    "\n",
    "print(U)\n",
    "\n",
    "W = U[0]\n",
    "b = U[1]\n",
    "\n",
    "plt.subplot(133)\n",
    "plt.plot(x,W*x+b,'-r', x,y,marker=\"x\")\n",
    "plt.title('Regression')\n",
    "plt.show()\n",
    "\n",
    "\n",
    "\n",
    "\n"
   ]
  },
  {
   "cell_type": "code",
   "execution_count": null,
   "id": "6070aadd",
   "metadata": {},
   "outputs": [],
   "source": []
  }
 ],
 "metadata": {
  "kernelspec": {
   "display_name": "Python 3",
   "language": "python",
   "name": "python3"
  },
  "language_info": {
   "codemirror_mode": {
    "name": "ipython",
    "version": 3
   },
   "file_extension": ".py",
   "mimetype": "text/x-python",
   "name": "python",
   "nbconvert_exporter": "python",
   "pygments_lexer": "ipython3",
   "version": "3.8.8"
  }
 },
 "nbformat": 4,
 "nbformat_minor": 5
}
